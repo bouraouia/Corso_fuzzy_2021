{
  "nbformat": 4,
  "nbformat_minor": 0,
  "metadata": {
    "colab": {
      "name": "Test_25_02_2021.ipynb",
      "provenance": [],
      "authorship_tag": "ABX9TyMzk3VK9WvPSA9ZMroyVQ/s",
      "include_colab_link": true
    },
    "kernelspec": {
      "name": "python3",
      "display_name": "Python 3"
    }
  },
  "cells": [
    {
      "cell_type": "markdown",
      "metadata": {
        "id": "view-in-github",
        "colab_type": "text"
      },
      "source": [
        "<a href=\"https://colab.research.google.com/github/bouraouia/Corso_fuzzy_2021/blob/main/Test_25_02_2021.ipynb\" target=\"_parent\"><img src=\"https://colab.research.google.com/assets/colab-badge.svg\" alt=\"Open In Colab\"/></a>"
      ]
    },
    {
      "cell_type": "markdown",
      "metadata": {
        "id": "I0ygjmT4y7Wt"
      },
      "source": [
        "La logica nasce perché c’era la necessita di formalizzare un linguaggio parlato, il problema era esprimere nel modo più oggettivo possibile l’idea. La teoria del sillogismo, ovvero l’invenzione logica più importante di Aristotele, risolse il problema di esprimere formalismi.                                        Consideriamo un esempio di sillogismo.                                                                                                           \r\n",
        " 1 Tutti gli A sono H                                                                                                                                             \r\n",
        " 2 Tutti gli J sono A                                                                                                                                                \r\n",
        " 3 Dunque tutti gli J sono H.\r\n",
        "\r\n",
        "\r\n",
        "Viene sviluppato il pensiero logico di Aristotele e formulata una logica delle proposizioni. La Logica proposizionale si occupa di studiare la verità e la falsità delle affermazioni che possono essere formulate matematicamente. In logica si chiama proposizione qualsiasi affermazione di cui si possa definire un valore di verità (vero o falso), senza che ciò comporti ambiguità.\r\n",
        "Fino alla seconda metà del secolo XIX la logica ha fatto parte del corpo delle discipline filosofiche. In seguito, Boole influenzato dallo sviluppo del calcolo algebrico, studia le proposizioni logiche principali (congiunzione e disgiunzione) riuscendo a costruire un’algebra suscettibile di una doppia interpretazione: puramente logica o numerica (0 e 1). Il calcolo booleano rendeva, così, conto della logica delle classi e della logica delle proposizioni (in questo caso i valori 0 e 1 equivalevano rispettivamente ai valori falso e vero). La logica con Boole diventa matematica, non solo perché fa uso di un apparato simbolico e metodi tipici della matematica, ma anche perché si rivolge all’analisi di questioni e problemi interni alla matematica.\r\n",
        "\r\n",
        "Il logico Lukasiewics sosteneva una **logica polivalente** cioè una logica a più valori, ma finiti, dove si conoscevano le modalità. Lukasiewics riteneva, quindi, che la nozione di possibilità (non lo so) poteva anche rivestire un ruolo centrale. Lukasiewics diede origine al sistema trivalente (0; ½, 1) nella logica e dimostra che il terzo valore, ½, introdotto nella logica polivalente, viene proprio interpretato come possibilità (non lo so). Il sistema di regole che stabilisce le relazioni fra i tre valori logici (0; ½; 1) fu, pertanto, progettato in modo da avvicinarlo il più possibile a quello della logica bivalente. La logica trivalente promossa da Lukasiewics ha rappresentato, quindi, un riferimento teorico importante per la teoria degli insiemi sfuocati. Peraltro, anche se il logico di Lukasiewics si concentrò prevalentemente sulla logica a tre valori, per lui fu evidente la possibilità di introdurre infiniti livelli intermedi di verità, così come gli apparve chiara la portata rivoluzionaria di questa nuova logica.\r\n",
        "\r\n",
        "**La logica Fuzzy** diversamente della logica binaria che ci costringe ad una precisione artificiosa (vero o falso), introduce il concetto di ricorrere ad un requisito meno stringente e più generale, che tenga conto della vaghezza (Fuzzyness) del mondo reale (un grado di verità compreso tra 1 e 0 quindi infiniti valori di verità). Logica Fuzzy, codifica l’imprecisione del mondo reale e l’incertezza del nostro giudizio su di esso.\r\n",
        "\r\n"
      ]
    },
    {
      "cell_type": "markdown",
      "metadata": {
        "id": "6ZGsPGuauYNE"
      },
      "source": [
        "Connettivo AND"
      ]
    },
    {
      "cell_type": "code",
      "metadata": {
        "id": "v0EaYQcHume6"
      },
      "source": [
        "valori_possibili = (0, 1)\r\n",
        "\r\n",
        "for A in valori_possibili:\r\n",
        "  for B in valori_possibili:\r\n",
        "    print(f'{A} | {B} | {A * B}')"
      ],
      "execution_count": null,
      "outputs": []
    },
    {
      "cell_type": "markdown",
      "metadata": {
        "id": "nbQ-0Wocrdow"
      },
      "source": [
        "Connettivo OR"
      ]
    },
    {
      "cell_type": "code",
      "metadata": {
        "colab": {
          "base_uri": "https://localhost:8080/"
        },
        "id": "joZ_rFNRrj24",
        "outputId": "81404e1c-f690-45b1-aa59-fc6014230044"
      },
      "source": [
        "valori_possibili = (False, True)\r\n",
        "\r\n",
        "for A in valori_possibili:\r\n",
        "  for B in valori_possibili:\r\n",
        "    print(f'{A} OR {B} = {A or B}')"
      ],
      "execution_count": null,
      "outputs": [
        {
          "output_type": "stream",
          "text": [
            "False OR False = False\n",
            "False OR True = True\n",
            "True OR False = True\n",
            "True OR True = True\n"
          ],
          "name": "stdout"
        }
      ]
    },
    {
      "cell_type": "markdown",
      "metadata": {
        "id": "ZB9UF3oVr92e"
      },
      "source": [
        "Connettivo XOR"
      ]
    },
    {
      "cell_type": "code",
      "metadata": {
        "colab": {
          "base_uri": "https://localhost:8080/"
        },
        "id": "uqDVhiJdsG5m",
        "outputId": "d2ce621c-143b-413f-d0f5-c2cefd97bd9b"
      },
      "source": [
        "valori_possibili = (False, True)\r\n",
        "\r\n",
        "for A in valori_possibili:\r\n",
        "  for B in valori_possibili:\r\n",
        "    print(f'{A} OR {B} = {A != B}')"
      ],
      "execution_count": null,
      "outputs": [
        {
          "output_type": "stream",
          "text": [
            "False OR False = False\n",
            "False OR True = True\n",
            "True OR False = True\n",
            "True OR True = False\n"
          ],
          "name": "stdout"
        }
      ]
    },
    {
      "cell_type": "markdown",
      "metadata": {
        "id": "uf67EWOwsWHn"
      },
      "source": [
        "Connettivo ->"
      ]
    },
    {
      "cell_type": "code",
      "metadata": {
        "id": "vEm5xlA6s6k6"
      },
      "source": [
        "def freccia(ipotesi,tesi):\r\n",
        "  return (not ipotesi or tesi)"
      ],
      "execution_count": null,
      "outputs": []
    },
    {
      "cell_type": "code",
      "metadata": {
        "colab": {
          "base_uri": "https://localhost:8080/"
        },
        "id": "DhckmJa7saSq",
        "outputId": "1350f283-fc07-4dd1-863f-ca2efa35af55"
      },
      "source": [
        "valori_possibili = (False, True)\r\n",
        "\r\n",
        "for A in valori_possibili:\r\n",
        "  for B in valori_possibili:\r\n",
        "    print(f'{A} -> {B} = {freccia(A,B)}')"
      ],
      "execution_count": null,
      "outputs": [
        {
          "output_type": "stream",
          "text": [
            "False -> False = True\n",
            "False -> True = True\n",
            "True -> False = False\n",
            "True -> True = True\n"
          ],
          "name": "stdout"
        }
      ]
    },
    {
      "cell_type": "markdown",
      "metadata": {
        "id": "todCG7D9ugLb"
      },
      "source": [
        "Connettivo NOT "
      ]
    },
    {
      "cell_type": "code",
      "metadata": {
        "colab": {
          "base_uri": "https://localhost:8080/",
          "height": 0
        },
        "id": "6VClRvNRuksy",
        "outputId": "e4d24f21-7db5-4742-e697-9f799cd105c3"
      },
      "source": [
        "valori_possibili = (False, True)\r\n",
        "\r\n",
        "for A in valori_possibili:\r\n",
        " print(f'NOT {A} = {not A}')"
      ],
      "execution_count": 24,
      "outputs": [
        {
          "output_type": "stream",
          "text": [
            "NOT False = True\n",
            "NOT True = False\n"
          ],
          "name": "stdout"
        }
      ]
    },
    {
      "cell_type": "markdown",
      "metadata": {
        "id": "wPFCz87avegz"
      },
      "source": [
        "Connettivo AND via NOT e OR"
      ]
    },
    {
      "cell_type": "code",
      "metadata": {
        "id": "2FJDTv3fvp5-",
        "colab": {
          "base_uri": "https://localhost:8080/"
        },
        "outputId": "dc82d8d3-f1e4-4de9-8a08-2be46d236b32"
      },
      "source": [
        "valori_possibili = (False, True)\r\n",
        "for A in valori_possibili:\r\n",
        "  for B in valori_possibili:\r\n",
        "    print(f'{A} AND {B} = {not ( (not A) or (not B) )}')"
      ],
      "execution_count": null,
      "outputs": [
        {
          "output_type": "stream",
          "text": [
            "False AND False = False\n",
            "False AND True = False\n",
            "True AND False = False\n",
            "True AND True = True\n"
          ],
          "name": "stdout"
        }
      ]
    },
    {
      "cell_type": "markdown",
      "metadata": {
        "id": "EbuOiLobrZvc"
      },
      "source": [
        ""
      ]
    },
    {
      "cell_type": "markdown",
      "metadata": {
        "id": "28T7kGr5um4i"
      },
      "source": [
        "implementare una funzione che stampa la tabella di verità di una formula interpretata nella logica classica"
      ]
    },
    {
      "cell_type": "code",
      "metadata": {
        "id": "Q79zvoFOut5a"
      },
      "source": [
        "def e(var1, var2):\r\n",
        "  return var1 and var2\r\n",
        "def o(var1, var2):\r\n",
        "  return var1 or var2\r\n",
        "\r\n",
        "def freccia(ipotesi, tesi):\r\n",
        "  return (not ipotesi or tesi)\r\n",
        "\r\n",
        "def oppure(var1, var2):\r\n",
        "  return (not var1 and var2) or (var1 and not var2)"
      ],
      "execution_count": 28,
      "outputs": []
    },
    {
      "cell_type": "code",
      "metadata": {
        "id": "wmUDvHvcvtPe"
      },
      "source": [
        "def stampa_tabella(formula):\r\n",
        "  valori_possibili = (False, True)\r\n",
        "\r\n",
        "  for A in valori_possibili:\r\n",
        "    for B in valori_possibili:\r\n",
        "      print(f'{formula(A,B)}')"
      ],
      "execution_count": 19,
      "outputs": []
    },
    {
      "cell_type": "code",
      "metadata": {
        "colab": {
          "base_uri": "https://localhost:8080/",
          "height": 0
        },
        "id": "fHXsGHDOywCE",
        "outputId": "722bd301-2889-45c0-f1d1-ba56b2c3e33f"
      },
      "source": [
        "stampa_tabella(o)"
      ],
      "execution_count": 30,
      "outputs": [
        {
          "output_type": "stream",
          "text": [
            "False\n",
            "True\n",
            "True\n",
            "True\n"
          ],
          "name": "stdout"
        }
      ]
    },
    {
      "cell_type": "markdown",
      "metadata": {
        "id": "ZQcdESkQS7C6"
      },
      "source": [
        "implementare una funzione che stampa la tabella di verità di una formula interpretata nella logica di Lukasiewicz a 3 valori\r\n"
      ]
    },
    {
      "cell_type": "code",
      "metadata": {
        "id": "y8XjyZsoXhxV"
      },
      "source": [
        "def notL(var1):\r\n",
        "  return 1 - int (var1)\r\n",
        "#Connettivo AND\r\n",
        "def andL(var1,var2):\r\n",
        "  return min (var1, var2)\r\n",
        "#Connettivo OR\r\n",
        "def orL(var1,var2):\r\n",
        "  return max(var1, var2)\r\n",
        "#Connettivo XOR\r\n",
        "def xorL(var1,var2):\r\n",
        "  return  1 - abs(var1 - var2)\r\n",
        "#Connettivo freccia ->\r\n",
        "def freccial(var1,var2):\r\n",
        "  return min(1, 1 - var1 + var2)"
      ],
      "execution_count": null,
      "outputs": []
    },
    {
      "cell_type": "markdown",
      "metadata": {
        "id": "1XZ-SRpwSRxI"
      },
      "source": [
        "stampare le funzioni di verità delle seguenti formule :\r\n",
        "\r\n",
        "A or (not A)\r\n",
        "\r\n",
        "not A -> B"
      ]
    },
    {
      "cell_type": "code",
      "metadata": {
        "id": "I83xNbbuKma5"
      },
      "source": [
        "#A or (notA)\r\n",
        "def f1(var1): \r\n",
        "  return var1 or (not var1)\r\n",
        "\r\n",
        "# not A->B\r\n",
        "def f2(var1, var2):\r\n",
        "  return (not (not var1) or var2)"
      ],
      "execution_count": 46,
      "outputs": []
    },
    {
      "cell_type": "code",
      "metadata": {
        "id": "EWKU9CNmK4YO"
      },
      "source": [
        "def stampa_tabella(formula):\r\n",
        "  valori = (False,True)\r\n",
        " \r\n",
        "  print('\\nTabella di verita\\':')\r\n",
        "  if formula == 'f1':\r\n",
        "    for A in valori:\r\n",
        "      print(f'{A} | {eval(formula+\"(A)\")}')\r\n",
        "\r\n",
        "  else:               \r\n",
        "    for A in valori:\r\n",
        "      for B in valori:\r\n",
        "        print(f' {A} | {B} | {eval(formula+\"(A,B)\")}')"
      ],
      "execution_count": 47,
      "outputs": []
    },
    {
      "cell_type": "code",
      "metadata": {
        "colab": {
          "base_uri": "https://localhost:8080/"
        },
        "id": "_QZ1iIOPK6ev",
        "outputId": "ea5c3f40-21dc-43d1-e51e-952442f4cd75"
      },
      "source": [
        "risposta = 's'\r\n",
        "while risposta == 's':\r\n",
        "  operazione = input('Quale funzione vuoi eseguire? \"f1\" oppure \"f2\"')\r\n",
        "  stampa_tabella(operazione)\r\n",
        "  risposta = input('\\nUn\\'altra Operazione? Yes(s), No(n)')"
      ],
      "execution_count": null,
      "outputs": [
        {
          "output_type": "stream",
          "text": [
            "\n",
            "Tabella di verita':\n",
            "False | True\n",
            "True | True\n"
          ],
          "name": "stdout"
        }
      ]
    },
    {
      "cell_type": "markdown",
      "metadata": {
        "id": "Q6Xd7yhFWWmb"
      },
      "source": [
        "**ADIL BOURAOUIA**"
      ]
    }
  ]
}